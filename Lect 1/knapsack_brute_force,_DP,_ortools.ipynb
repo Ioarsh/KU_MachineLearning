{
  "nbformat": 4,
  "nbformat_minor": 0,
  "metadata": {
    "colab": {
      "provenance": []
    },
    "kernelspec": {
      "name": "python3",
      "display_name": "Python 3"
    },
    "language_info": {
      "name": "python"
    }
  },
  "cells": [
    {
      "cell_type": "code",
      "metadata": {
        "colab": {
          "base_uri": "https://localhost:8080/",
          "height": 501
        },
        "id": "Z_s7hjLjXSL4",
        "outputId": "a923198c-95bc-4c98-d0c8-f14b562b03d6"
      },
      "source": [
        "!pip install ortools"
      ],
      "execution_count": null,
      "outputs": [
        {
          "output_type": "stream",
          "name": "stdout",
          "text": [
            "Collecting ortools\n",
            "  Downloading ortools-9.1.9490-cp37-cp37m-manylinux_2_17_x86_64.manylinux2014_x86_64.whl (14.5 MB)\n",
            "\u001b[K     |████████████████████████████████| 14.5 MB 90 kB/s \n",
            "\u001b[?25hCollecting protobuf>=3.18.0\n",
            "  Downloading protobuf-3.18.1-cp37-cp37m-manylinux_2_17_x86_64.manylinux2014_x86_64.whl (1.1 MB)\n",
            "\u001b[K     |████████████████████████████████| 1.1 MB 36.1 MB/s \n",
            "\u001b[?25hCollecting absl-py>=0.13\n",
            "  Downloading absl_py-0.14.1-py3-none-any.whl (131 kB)\n",
            "\u001b[K     |████████████████████████████████| 131 kB 61.3 MB/s \n",
            "\u001b[?25hRequirement already satisfied: six in /usr/local/lib/python3.7/dist-packages (from absl-py>=0.13->ortools) (1.15.0)\n",
            "Installing collected packages: protobuf, absl-py, ortools\n",
            "  Attempting uninstall: protobuf\n",
            "    Found existing installation: protobuf 3.17.3\n",
            "    Uninstalling protobuf-3.17.3:\n",
            "      Successfully uninstalled protobuf-3.17.3\n",
            "  Attempting uninstall: absl-py\n",
            "    Found existing installation: absl-py 0.12.0\n",
            "    Uninstalling absl-py-0.12.0:\n",
            "      Successfully uninstalled absl-py-0.12.0\n",
            "\u001b[31mERROR: pip's dependency resolver does not currently take into account all the packages that are installed. This behaviour is the source of the following dependency conflicts.\n",
            "tensorflow-metadata 1.2.0 requires absl-py<0.13,>=0.9, but you have absl-py 0.14.1 which is incompatible.\u001b[0m\n",
            "Successfully installed absl-py-0.14.1 ortools-9.1.9490 protobuf-3.18.1\n"
          ]
        },
        {
          "output_type": "display_data",
          "data": {
            "application/vnd.colab-display-data+json": {
              "pip_warning": {
                "packages": [
                  "google"
                ]
              }
            }
          },
          "metadata": {}
        }
      ]
    },
    {
      "cell_type": "markdown",
      "metadata": {
        "id": "ErlxNQFDAIwQ"
      },
      "source": [
        "<h1>Optimization Demo (Knapsack problem)</h1>\n",
        "<img src=\"https://cs.stanford.edu/people/eroberts/courses/soco/projects/public-key-cryptography/images/animate.gif\"/>\n",
        "\n",
        "\n"
      ]
    },
    {
      "cell_type": "code",
      "metadata": {
        "id": "afeawF3S_YL2"
      },
      "source": [
        "# Define a default knapsack 01 function\n",
        "def knapsack01 (MLimit, WeightofItem, ValueofItem, NumberOI):\n",
        "    # Give the initial if conditions\n",
        "    if NumberOI == 0 or MLimit == 0 :\n",
        "       return 0\n",
        "    # Defining nested if condition for higher weight\n",
        "    if (WeightofItem [NumberOI-1] > MLimit):\n",
        "       return knapsack01 (MLimit, WeightofItem, ValueofItem, NumberOI-1)\n",
        "    # Using else condition for number of items\n",
        "    else:\n",
        "       return max (ValueofItem [NumberOI-1] + knapsack01 (MLimit-WeightofItem [NumberOI-1], WeightofItem, ValueofItem, NumberOI-1),\n",
        "                   knapsack01 (MLimit, WeightofItem, ValueofItem, NumberOI-1))\n"
      ],
      "execution_count": null,
      "outputs": []
    },
    {
      "cell_type": "code",
      "metadata": {
        "id": "njsx7zzIARuo"
      },
      "source": [
        "# Define a default knapsack 02 function\n",
        "def knapsack02 (MLimit, WeightofItem, ValueofItem, NumberOI):\n",
        "    M = [ [0 for a in range (MLimit + 1)] for a in range (NumberOI + 1)]\n",
        "    # Define a for loop for limit\n",
        "    for b in range (NumberOI + 1):\n",
        "       # Nested for loop for higher limit\n",
        "       for c in range (MLimit + 1):\n",
        "          # Defining if condition for maximum weight\n",
        "          if b == 0 or c == 0:\n",
        "             M[b][c] = 0\n",
        "          # Elseif condition for maximum value in bag\n",
        "          elif WeightofItem[b-1] <= c:\n",
        "             M[b][c] = max (ValueofItem[b-1] + M[b-1][c-WeightofItem[b-1]], M[b-1][c])\n",
        "          else:\n",
        "             M[b][c] = M[b-1][c]\n",
        "    return M[NumberOI][MLimit] # returning maximum value from the function\n"
      ],
      "execution_count": null,
      "outputs": []
    },
    {
      "cell_type": "code",
      "metadata": {
        "id": "1ee9gAmOUG8y"
      },
      "source": [
        "def knapsack03(MLimit, WeightofItem, ValueofItem, NumberOI):\n",
        "  from ortools.algorithms import pywrapknapsack_solver\n",
        "  solver = pywrapknapsack_solver.KnapsackSolver(pywrapknapsack_solver.KnapsackSolver.KNAPSACK_MULTIDIMENSION_BRANCH_AND_BOUND_SOLVER, 'KnapsackExample')\n",
        "\n",
        "  solver.Init(ValueofItem, [WeightofItem], [MLimit])\n",
        "  computed_value = solver.Solve()\n",
        "  return computed_value"
      ],
      "execution_count": null,
      "outputs": []
    },
    {
      "cell_type": "markdown",
      "metadata": {
        "id": "3S7MBMCFMx2b"
      },
      "source": [
        "** ถ้ากำหนดขนาดข้อมูล  **\n",
        "* size =5 จะใช้ข้อมูลตามรูป ซึ่งตอนรันควรป้อนขนาด 20  \n",
        "* size <9 จะใช้ชุดข้อมูลตัวอย่างทีกำหนดล่วงหน้า่ ซึ่งในขณะรัน เมื่อป้อน max limit เข้าไป จะตอบ 2565 นั่นคือ กระป๋องขนาด 97 จะ มีของใส่ ได้แก่ 40+36+16+4+1 ซึ่งของจะมีมูลค่า 2000+500+50+10+5==>2565\n",
        "* size >9 จะสร้างชุดข้อมูลที่มีขนาดใหญ่กว่าเดิม ซึ่งจะส่งผลต่อประสิทธิภาพของ อัลกอริทึ่ม (อย่าใส่ค่าสูงเกินไป 30 ก็เยอะแล้ว)"
      ]
    },
    {
      "cell_type": "code",
      "metadata": {
        "id": "3JPvgNblItCG"
      },
      "source": [
        "size=30"
      ],
      "execution_count": null,
      "outputs": []
    },
    {
      "cell_type": "code",
      "metadata": {
        "id": "9aI0fSrvAACd",
        "colab": {
          "base_uri": "https://localhost:8080/"
        },
        "outputId": "abcadc34-434c-42b6-c467-a065c496b785"
      },
      "source": [
        "\n",
        "from random import seed\n",
        "from random import random\n",
        "\n",
        "if size==5:\n",
        "  ValueofItem = [4, 5, 6, 8, 11]\n",
        "  WeightofItem = [4, 5, 6, 8, 11]\n",
        "elif size<9:\n",
        "  ValueofItem = [5, 10, 20, 50, 100, 200, 500, 2000]\n",
        "  WeightofItem = [1, 4, 8, 16, 24, 32, 36, 40]\n",
        "else:\n",
        "  seed(1)\n",
        "  ValueofItem=[]\n",
        "  WeightofItem=[]\n",
        "  for i in range(size):\n",
        "    ValueofItem.append(int(random()*1000))\n",
        "    WeightofItem.append(int(random()*50))\n",
        "print (ValueofItem)\n",
        "print(WeightofItem)"
      ],
      "execution_count": null,
      "outputs": [
        {
          "output_type": "stream",
          "name": "stdout",
          "text": [
            "[134, 763, 495, 651, 93, 835, 762, 445, 228, 901, 25, 939, 216, 29, 437, 233, 218, 289, 837, 642, 992, 120, 721, 936, 830, 303, 882, 505, 34, 797]\n",
            "[42, 12, 22, 39, 1, 21, 0, 36, 47, 1, 27, 19, 21, 11, 24, 11, 22, 1, 27, 9, 42, 16, 35, 21, 33, 29, 42, 29, 12, 20]\n"
          ]
        }
      ]
    },
    {
      "cell_type": "markdown",
      "metadata": {
        "id": "96BctoWESSWU"
      },
      "source": [
        "รันโปรแกรม โดยแสดงผลลัพธ์จากทั้งสอง อัลกอริที่ม จะเห็นว่าเวลาที่ได้แตกต่างกันมาก"
      ]
    },
    {
      "cell_type": "code",
      "metadata": {
        "id": "JtXSlV3EA06T",
        "colab": {
          "base_uri": "https://localhost:8080/"
        },
        "outputId": "7e97f0c1-8a69-4c9a-a065-bb545ce4ab99"
      },
      "source": [
        "# Defining variables used in the function\n",
        "NumberOI = len (ValueofItem)\n",
        "# Taking maximum limit as user input\n",
        "MLimit = int (input (\"Enter the maximum limit for the bag: \"))\n",
        "# Printing result of problem in the output\n",
        "print (\"The maximum value of items we can get with the given limit: \")\n",
        "import time\n",
        "t1=time.perf_counter ()\n",
        "r1=knapsack01 (MLimit, WeightofItem, ValueofItem, NumberOI)\n",
        "t2=time.perf_counter ()\n",
        "r2=knapsack02 (MLimit, WeightofItem, ValueofItem, NumberOI)\n",
        "t3=time.perf_counter ()\n",
        "r3=knapsack03 (MLimit, WeightofItem, ValueofItem, NumberOI)\n",
        "t4=time.perf_counter ()\n",
        "print(\"brute force: max value=\"+str(r1)+\" (\"+str(t2-t1)+\" s.)\")\n",
        "print(\"dynamic programing: max value=\"+str(r2)+\" (\"+str(t3-t2)+\" s.)\")\n",
        "print(\"Google OR tools: max value=\"+str(r3)+\" (\"+str(t4-t3)+\" s.)\")"
      ],
      "execution_count": null,
      "outputs": [
        {
          "output_type": "stream",
          "name": "stdout",
          "text": [
            "Enter the maximum limit for the bag: 1500\n",
            "The maximum value of items we can get with the given limit: \n",
            "brute force: max value=15292 (856.6474724049999 s.)\n",
            "dynamic programing: max value=15292 (0.03661743399993611 s.)\n",
            "Google OR tools: max value=15292 (0.00013558000000557513 s.)\n"
          ]
        }
      ]
    },
    {
      "cell_type": "markdown",
      "metadata": {
        "id": "_TdELH3pAJuI"
      },
      "source": [
        "reference\n",
        "https://www.tutorialandexample.com/python-knapsack-problem/"
      ]
    }
  ]
}