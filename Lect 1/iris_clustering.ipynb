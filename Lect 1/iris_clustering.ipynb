{
  "nbformat": 4,
  "nbformat_minor": 0,
  "metadata": {
    "colab": {
      "provenance": []
    },
    "kernelspec": {
      "name": "python3",
      "display_name": "Python 3"
    },
    "language_info": {
      "name": "python"
    }
  },
  "cells": [
    {
      "cell_type": "code",
      "metadata": {
        "id": "uinyrJJQmpXf",
        "colab": {
          "base_uri": "https://localhost:8080/"
        },
        "outputId": "f63f16ce-8767-4706-d7ec-7da62b46133b"
      },
      "source": [
        "from sklearn import datasets\n",
        "# Load the diabetes dataset\n",
        "dataset = datasets.load_iris()\n",
        "target_names=dataset.target_names\n",
        "feature_names=dataset.feature_names\n",
        "X=dataset.data\n",
        "y=dataset.target\n",
        "print(X.shape)\n",
        "print(feature_names)\n",
        "print(target_names)"
      ],
      "execution_count": null,
      "outputs": [
        {
          "output_type": "stream",
          "name": "stdout",
          "text": [
            "(150, 4)\n",
            "['sepal length (cm)', 'sepal width (cm)', 'petal length (cm)', 'petal width (cm)']\n",
            "['setosa' 'versicolor' 'virginica']\n"
          ]
        }
      ]
    },
    {
      "cell_type": "code",
      "metadata": {
        "id": "RgmMba74nL9f",
        "colab": {
          "base_uri": "https://localhost:8080/",
          "height": 295
        },
        "outputId": "c93b043d-a0fb-4237-f909-0f944df709de"
      },
      "source": [
        "from matplotlib import pyplot as plt\n",
        "from sklearn.cluster import KMeans\n",
        "wcss = [] # winthin-cluster sum of squares error\n",
        "for i in range(1, 21):\n",
        "    model = KMeans(n_clusters=i, init='k-means++', max_iter=300, n_init=10)\n",
        "    model.fit(X)\n",
        "    wcss.append(model.inertia_)\n",
        "plt.plot(range(1, 21), wcss)\n",
        "plt.title('Elbow Method')\n",
        "plt.xlabel('Number of clusters')\n",
        "plt.ylabel('WCSS')\n",
        "plt.show()"
      ],
      "execution_count": null,
      "outputs": [
        {
          "output_type": "display_data",
          "data": {
            "text/plain": [
              "<Figure size 432x288 with 1 Axes>"
            ],
            "image/png": "[encoded data removed]"
          },
          "metadata": {
            "needs_background": "light"
          }
        }
      ]
    },
    {
      "cell_type": "markdown",
      "metadata": {
        "id": "vj1TvsLo6nxX"
      },
      "source": [
        "อยากลองจัดกี่กลุ่มหละ เริ่มต้น ลอง K=4 (ลองเปลี่ยนได้ครับ)"
      ]
    },
    {
      "cell_type": "code",
      "metadata": {
        "id": "ZAqyQVBoyw-s"
      },
      "source": [
        "K=3"
      ],
      "execution_count": null,
      "outputs": []
    },
    {
      "cell_type": "markdown",
      "metadata": {
        "id": "OUGEFIU92TdA"
      },
      "source": [
        "เปรียบเทียบผลลัพธ์ของการทำ clustering กับ คำตอบที่ทราบล่วงหน้า (ซึ่งโดยหลักการเราไม่ควรทราบ) จะเห็นว่า ข้อมูลที่ทราบว่าเป็นชุดเดียวกัน ถูก cluster เดียวกัน"
      ]
    },
    {
      "cell_type": "code",
      "metadata": {
        "id": "rz26pVAfykGg",
        "colab": {
          "base_uri": "https://localhost:8080/"
        },
        "outputId": "ee1a2cab-63e9-470d-a15e-e4a71babb147"
      },
      "source": [
        "model = KMeans(n_clusters=K, init='k-means++', max_iter=300, n_init=10)\n",
        "pred_y = model.fit_predict(X)\n",
        "print(model.labels_.astype(int))\n",
        "print(y)"
      ],
      "execution_count": null,
      "outputs": [
        {
          "output_type": "stream",
          "name": "stdout",
          "text": [
            "[1 1 1 1 1 1 1 1 1 1 1 1 1 1 1 1 1 1 1 1 1 1 1 1 1 1 1 1 1 1 1 1 1 1 1 1 1\n",
            " 1 1 1 1 1 1 1 1 1 1 1 1 1 2 2 0 2 2 2 2 2 2 2 2 2 2 2 2 2 2 2 2 2 2 2 2 2\n",
            " 2 2 2 0 2 2 2 2 2 2 2 2 2 2 2 2 2 2 2 2 2 2 2 2 2 2 0 2 0 0 0 0 2 0 0 0 0\n",
            " 0 0 2 2 0 0 0 0 2 0 2 0 2 0 0 2 2 0 0 0 0 0 2 0 0 0 0 2 0 0 0 2 0 0 0 2 0\n",
            " 0 2]\n",
            "[0 0 0 0 0 0 0 0 0 0 0 0 0 0 0 0 0 0 0 0 0 0 0 0 0 0 0 0 0 0 0 0 0 0 0 0 0\n",
            " 0 0 0 0 0 0 0 0 0 0 0 0 0 1 1 1 1 1 1 1 1 1 1 1 1 1 1 1 1 1 1 1 1 1 1 1 1\n",
            " 1 1 1 1 1 1 1 1 1 1 1 1 1 1 1 1 1 1 1 1 1 1 1 1 1 1 2 2 2 2 2 2 2 2 2 2 2\n",
            " 2 2 2 2 2 2 2 2 2 2 2 2 2 2 2 2 2 2 2 2 2 2 2 2 2 2 2 2 2 2 2 2 2 2 2 2 2\n",
            " 2 2]\n"
          ]
        }
      ]
    }
  ]
}